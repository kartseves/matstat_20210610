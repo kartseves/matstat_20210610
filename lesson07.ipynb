{
 "cells": [
  {
   "cell_type": "markdown",
   "metadata": {},
   "source": [
    "# Урок 7. Многомерный статистический анализ. Линейная регрессия."
   ]
  },
  {
   "cell_type": "markdown",
   "metadata": {},
   "source": [
    "## 1. Даны значения величины заработной платы заемщиков банка (zp) и значения их поведенческого кредитного скоринга (ks): zp = [35, 45, 190, 200, 40, 70, 54, 150, 120, 110], ks = [401, 574, 874, 919, 459, 739, 653, 902, 746, 832]. Используя математические операции, посчитать коэффициенты линейной регрессии, приняв за X заработную плату (то есть, zp - признак), а за y - значения скорингового балла (то есть, ks - целевая переменная). Произвести расчет как с использованием intercept, так и без."
   ]
  },
  {
   "cell_type": "code",
   "execution_count": 1,
   "metadata": {},
   "outputs": [],
   "source": [
    "import numpy as np\n",
    "import pandas as pd"
   ]
  },
  {
   "cell_type": "code",
   "execution_count": 2,
   "metadata": {},
   "outputs": [],
   "source": [
    "zp = np.array([35, 45, 190, 200, 40, 70, 54, 150, 120, 110], dtype=np.float64)\n",
    "ks = np.array([401, 574, 874, 919, 459, 739, 653, 902, 746, 832], dtype=np.float64)"
   ]
  },
  {
   "cell_type": "markdown",
   "metadata": {},
   "source": [
    "Используем матричный метод поиска коэффициентов:"
   ]
  },
  {
   "cell_type": "markdown",
   "metadata": {},
   "source": [
    "### $$B=(X^T \\cdot X)^{-1} \\cdot X^T \\cdot Y$$"
   ]
  },
  {
   "cell_type": "code",
   "execution_count": 3,
   "metadata": {},
   "outputs": [
    {
     "data": {
      "text/plain": [
       "array([[ 35.],\n",
       "       [ 45.],\n",
       "       [190.],\n",
       "       [200.],\n",
       "       [ 40.],\n",
       "       [ 70.],\n",
       "       [ 54.],\n",
       "       [150.],\n",
       "       [120.],\n",
       "       [110.]])"
      ]
     },
     "execution_count": 3,
     "metadata": {},
     "output_type": "execute_result"
    }
   ],
   "source": [
    "x = zp.reshape(10, 1)\n",
    "x"
   ]
  },
  {
   "cell_type": "code",
   "execution_count": 4,
   "metadata": {},
   "outputs": [
    {
     "data": {
      "text/plain": [
       "array([[401.],\n",
       "       [574.],\n",
       "       [874.],\n",
       "       [919.],\n",
       "       [459.],\n",
       "       [739.],\n",
       "       [653.],\n",
       "       [902.],\n",
       "       [746.],\n",
       "       [832.]])"
      ]
     },
     "execution_count": 4,
     "metadata": {},
     "output_type": "execute_result"
    }
   ],
   "source": [
    "y = ks.reshape(10, 1)\n",
    "y"
   ]
  },
  {
   "cell_type": "code",
   "execution_count": 5,
   "metadata": {},
   "outputs": [
    {
     "name": "stdout",
     "output_type": "stream",
     "text": [
      "Коэффициенты линейной регрессии без intercept:\n",
      "[[5.88982042]]\n",
      "\n"
     ]
    }
   ],
   "source": [
    "b = np.dot(np.linalg.inv(np.dot(x.T, x)), x.T@y)\n",
    "print(f\"Коэффициенты линейной регрессии без intercept:\\n{b}\\n\")"
   ]
  },
  {
   "cell_type": "code",
   "execution_count": 6,
   "metadata": {},
   "outputs": [
    {
     "data": {
      "text/plain": [
       "array([[  1.,  35.],\n",
       "       [  1.,  45.],\n",
       "       [  1., 190.],\n",
       "       [  1., 200.],\n",
       "       [  1.,  40.],\n",
       "       [  1.,  70.],\n",
       "       [  1.,  54.],\n",
       "       [  1., 150.],\n",
       "       [  1., 120.],\n",
       "       [  1., 110.]])"
      ]
     },
     "execution_count": 6,
     "metadata": {},
     "output_type": "execute_result"
    }
   ],
   "source": [
    "#Добавим intercept\n",
    "x = np.hstack([np.ones((10,1)), x])\n",
    "x"
   ]
  },
  {
   "cell_type": "code",
   "execution_count": 7,
   "metadata": {},
   "outputs": [
    {
     "name": "stdout",
     "output_type": "stream",
     "text": [
      "Коэффициенты линейной регрессии с intercept:\n",
      "[[444.17735732]\n",
      " [  2.62053888]]\n",
      "\n"
     ]
    }
   ],
   "source": [
    "b_intercept = np.dot(np.linalg.inv(np.dot(x.T, x)), x.T@y)\n",
    "print(f\"Коэффициенты линейной регрессии с intercept:\\n{b_intercept}\\n\")"
   ]
  },
  {
   "cell_type": "code",
   "execution_count": 8,
   "metadata": {},
   "outputs": [
    {
     "name": "stdout",
     "output_type": "stream",
     "text": [
      "Предсказанные значения без intercept:\n",
      "[ 206.1437147   265.04191891 1119.06587983 1177.96408403  235.59281681\n",
      "  412.28742941  318.05030269  883.47306302  706.77845042  647.88024621]\n",
      "\n",
      "Предсказанные значения с intercept:\n",
      "[535.89621821 562.10160703 942.07974498 968.2851338  548.99891262\n",
      " 627.61507909 585.68645697 837.25818968 758.64202321 732.43663439]\n",
      "\n"
     ]
    }
   ],
   "source": [
    "y_pred = b[0,0]*zp\n",
    "y_pred_intercept = b_intercept[0,0] + b_intercept[1,0]*zp\n",
    "\n",
    "print(f\"Предсказанные значения без intercept:\\n{y_pred}\\n\")\n",
    "print(f\"Предсказанные значения с intercept:\\n{y_pred_intercept}\\n\")"
   ]
  },
  {
   "cell_type": "code",
   "execution_count": 9,
   "metadata": {},
   "outputs": [
    {
     "data": {
      "text/html": [
       "<div>\n",
       "<style scoped>\n",
       "    .dataframe tbody tr th:only-of-type {\n",
       "        vertical-align: middle;\n",
       "    }\n",
       "\n",
       "    .dataframe tbody tr th {\n",
       "        vertical-align: top;\n",
       "    }\n",
       "\n",
       "    .dataframe thead th {\n",
       "        text-align: right;\n",
       "    }\n",
       "</style>\n",
       "<table border=\"1\" class=\"dataframe\">\n",
       "  <thead>\n",
       "    <tr style=\"text-align: right;\">\n",
       "      <th></th>\n",
       "      <th>zp</th>\n",
       "      <th>ks</th>\n",
       "      <th>y_pred</th>\n",
       "      <th>y_pred_intercept</th>\n",
       "    </tr>\n",
       "  </thead>\n",
       "  <tbody>\n",
       "    <tr>\n",
       "      <th>0</th>\n",
       "      <td>35.0</td>\n",
       "      <td>401.0</td>\n",
       "      <td>206.143715</td>\n",
       "      <td>535.896218</td>\n",
       "    </tr>\n",
       "    <tr>\n",
       "      <th>4</th>\n",
       "      <td>40.0</td>\n",
       "      <td>459.0</td>\n",
       "      <td>235.592817</td>\n",
       "      <td>548.998913</td>\n",
       "    </tr>\n",
       "    <tr>\n",
       "      <th>1</th>\n",
       "      <td>45.0</td>\n",
       "      <td>574.0</td>\n",
       "      <td>265.041919</td>\n",
       "      <td>562.101607</td>\n",
       "    </tr>\n",
       "    <tr>\n",
       "      <th>6</th>\n",
       "      <td>54.0</td>\n",
       "      <td>653.0</td>\n",
       "      <td>318.050303</td>\n",
       "      <td>585.686457</td>\n",
       "    </tr>\n",
       "    <tr>\n",
       "      <th>5</th>\n",
       "      <td>70.0</td>\n",
       "      <td>739.0</td>\n",
       "      <td>412.287429</td>\n",
       "      <td>627.615079</td>\n",
       "    </tr>\n",
       "    <tr>\n",
       "      <th>9</th>\n",
       "      <td>110.0</td>\n",
       "      <td>832.0</td>\n",
       "      <td>647.880246</td>\n",
       "      <td>732.436634</td>\n",
       "    </tr>\n",
       "    <tr>\n",
       "      <th>8</th>\n",
       "      <td>120.0</td>\n",
       "      <td>746.0</td>\n",
       "      <td>706.778450</td>\n",
       "      <td>758.642023</td>\n",
       "    </tr>\n",
       "    <tr>\n",
       "      <th>7</th>\n",
       "      <td>150.0</td>\n",
       "      <td>902.0</td>\n",
       "      <td>883.473063</td>\n",
       "      <td>837.258190</td>\n",
       "    </tr>\n",
       "    <tr>\n",
       "      <th>2</th>\n",
       "      <td>190.0</td>\n",
       "      <td>874.0</td>\n",
       "      <td>1119.065880</td>\n",
       "      <td>942.079745</td>\n",
       "    </tr>\n",
       "    <tr>\n",
       "      <th>3</th>\n",
       "      <td>200.0</td>\n",
       "      <td>919.0</td>\n",
       "      <td>1177.964084</td>\n",
       "      <td>968.285134</td>\n",
       "    </tr>\n",
       "  </tbody>\n",
       "</table>\n",
       "</div>"
      ],
      "text/plain": [
       "      zp     ks       y_pred  y_pred_intercept\n",
       "0   35.0  401.0   206.143715        535.896218\n",
       "4   40.0  459.0   235.592817        548.998913\n",
       "1   45.0  574.0   265.041919        562.101607\n",
       "6   54.0  653.0   318.050303        585.686457\n",
       "5   70.0  739.0   412.287429        627.615079\n",
       "9  110.0  832.0   647.880246        732.436634\n",
       "8  120.0  746.0   706.778450        758.642023\n",
       "7  150.0  902.0   883.473063        837.258190\n",
       "2  190.0  874.0  1119.065880        942.079745\n",
       "3  200.0  919.0  1177.964084        968.285134"
      ]
     },
     "execution_count": 9,
     "metadata": {},
     "output_type": "execute_result"
    }
   ],
   "source": [
    "df = pd.DataFrame({'zp': zp, 'ks': ks, 'y_pred': y_pred, 'y_pred_intercept': y_pred_intercept},\\\n",
    "                  columns=['zp', 'ks', 'y_pred', 'y_pred_intercept'])\n",
    "df = df.sort_values('zp')\n",
    "df"
   ]
  },
  {
   "cell_type": "code",
   "execution_count": 10,
   "metadata": {},
   "outputs": [
    {
     "data": {
      "image/png": "[encoded data removed]",
      "text/plain": [
       "<Figure size 720x504 with 1 Axes>"
      ]
     },
     "metadata": {
      "needs_background": "light"
     },
     "output_type": "display_data"
    }
   ],
   "source": [
    "import matplotlib.pyplot as plt\n",
    "\n",
    "fg = plt.figure(figsize=(10, 7), constrained_layout=True)\n",
    "\n",
    "plt.scatter(df['zp'], df['ks'])\n",
    "plt.plot(df['zp'], df['y_pred'], label='Линейная регрессия без intercept')\n",
    "plt.plot(df['zp'], df['y_pred_intercept'], label='Линейная регрессия с intercept')\n",
    "plt.xlabel('Заработная плата')\n",
    "plt.ylabel('Скоринговый балл')\n",
    "plt.legend(loc='best')\n",
    "plt.grid(True)\n",
    "\n",
    "plt.show()"
   ]
  },
  {
   "cell_type": "markdown",
   "metadata": {},
   "source": [
    "## 2. Посчитать коэффициент линейной регрессии при заработной плате (zp), используя градиентный спуск (без intercept)."
   ]
  },
  {
   "cell_type": "code",
   "execution_count": 11,
   "metadata": {},
   "outputs": [],
   "source": [
    "X = np.array([35, 45, 190, 200, 40, 70, 54, 150, 120, 110], dtype=np.float64)\n",
    "y = np.array([401, 574, 874, 919, 459, 739, 653, 902, 746, 832], dtype=np.float64)"
   ]
  },
  {
   "cell_type": "code",
   "execution_count": 12,
   "metadata": {},
   "outputs": [],
   "source": [
    "def mse_(B1, y=y, X=X, n=10):\n",
    "    return np.sum((B1*X-y)**2)/n"
   ]
  },
  {
   "cell_type": "code",
   "execution_count": 13,
   "metadata": {},
   "outputs": [],
   "source": [
    "alpha = 1e-6\n",
    "B1 = 0.1\n",
    "n = 10"
   ]
  },
  {
   "cell_type": "code",
   "execution_count": 14,
   "metadata": {},
   "outputs": [
    {
     "name": "stdout",
     "output_type": "stream",
     "text": [
      "Итерация 10: B1=1.5113380127259965, mse=320629.547533212\n",
      "Итерация 20: B1=2.5786454957244893, mse=207561.83908263582\n",
      "Итерация 30: B1=3.3857840075430166, mse=142898.87308113332\n",
      "Итерация 40: B1=3.996172848283063, mse=105918.3838732957\n",
      "Итерация 50: B1=4.457772104723629, mse=84769.3913878718\n",
      "Итерация 60: B1=4.806851018565092, mse=72674.36796525786\n",
      "Итерация 70: B1=5.0708377698185, mse=65757.27289822795\n",
      "Итерация 80: B1=5.270474591391111, mse=61801.41415413721\n",
      "Итерация 90: B1=5.421447548701978, mse=59539.074508439844\n",
      "Итерация 100: B1=5.535619041013072, mse=58245.2515982716\n"
     ]
    }
   ],
   "source": [
    "for i in range(1, 101):\n",
    "    B1 -= alpha*(2/n)*np.sum((B1*X-y)*X)\n",
    "    if i%10==0:\n",
    "        print(f\"Итерация {i}: B1={B1}, mse={mse_(B1)}\")"
   ]
  },
  {
   "cell_type": "code",
   "execution_count": 15,
   "metadata": {},
   "outputs": [
    {
     "name": "stdout",
     "output_type": "stream",
     "text": [
      "Итерация 200: B1=5.888494795528504, mse=56516.882625071215\n",
      "Итерация 400: B1=5.889815458885515, mse=56516.858416058494\n",
      "Итерация 600: B1=5.889820401564859, mse=56516.85841571943\n",
      "Итерация 800: B1=5.889820420063197, mse=56516.8584157194\n",
      "Итерация 1000: B1=5.88982042013243, mse=56516.85841571939\n",
      "Итерация 1200: B1=5.889820420132673, mse=56516.85841571943\n",
      "Итерация 1400: B1=5.889820420132673, mse=56516.85841571943\n",
      "Итерация 1600: B1=5.889820420132673, mse=56516.85841571943\n",
      "Итерация 1800: B1=5.889820420132673, mse=56516.85841571943\n",
      "Итерация 2000: B1=5.889820420132673, mse=56516.85841571943\n"
     ]
    }
   ],
   "source": [
    "for i in range(1, 2001):\n",
    "    B1 -= alpha*(2/n)*np.sum((B1*X-y)*X)\n",
    "    if i%200==0:\n",
    "        print(f\"Итерация {i}: B1={B1}, mse={mse_(B1)}\")"
   ]
  },
  {
   "cell_type": "code",
   "execution_count": 16,
   "metadata": {},
   "outputs": [
    {
     "data": {
      "image/png": "[encoded data removed]",
      "text/plain": [
       "<Figure size 720x504 with 1 Axes>"
      ]
     },
     "metadata": {
      "needs_background": "light"
     },
     "output_type": "display_data"
    }
   ],
   "source": [
    "df = pd.DataFrame({'X': X, 'y': y, 'y_pred': B1*X}, columns=['X', 'y', 'y_pred'])\n",
    "df = df.sort_values('X')\n",
    "\n",
    "fg = plt.figure(figsize=(10, 7), constrained_layout=True)\n",
    "\n",
    "plt.scatter(df['X'], df['y'])\n",
    "plt.plot(df['X'], df['y_pred'], label='Линейная регрессия без intercept')\n",
    "plt.xlabel('Заработная плата')\n",
    "plt.ylabel('Скоринговый балл')\n",
    "plt.legend(loc='best')\n",
    "plt.grid(True)\n",
    "\n",
    "plt.show()"
   ]
  },
  {
   "cell_type": "markdown",
   "metadata": {},
   "source": [
    "## 3.  Произвести вычисления как в пункте 2, но с вычислением intercept. Учесть, что изменение коэффициентов должно производиться на каждом шаге одновременно (то есть изменение одного коэффициента не должно влиять на изменение другого во время одной итерации)."
   ]
  },
  {
   "cell_type": "code",
   "execution_count": 17,
   "metadata": {},
   "outputs": [],
   "source": [
    "def mse_(B0, B1, y=y, X=X, n=10):\n",
    "    return np.sum((B0 + B1*X - y)**2)/n"
   ]
  },
  {
   "cell_type": "code",
   "execution_count": 18,
   "metadata": {},
   "outputs": [],
   "source": [
    "alpha = 1e-6\n",
    "beta = 1e-2\n",
    "B0 = 0\n",
    "B1 = 0.1\n",
    "n = 10"
   ]
  },
  {
   "cell_type": "code",
   "execution_count": 19,
   "metadata": {},
   "outputs": [
    {
     "name": "stdout",
     "output_type": "stream",
     "text": [
      "Итерация 10: B0=115.76991671828374, B1=1.4055192168362287, mse=215581.4408610072\n",
      "Итерация 20: B0=190.7171504806154, B1=2.22249344339476, mse=93355.48168423213\n",
      "Итерация 30: B0=239.69946215299103, B1=2.7296386840676368, mse=43921.44011545839\n",
      "Итерация 40: B0=272.1521309339824, B1=3.040418629415014, mse=23843.668094910776\n",
      "Итерация 50: B0=294.06740383856044, B1=3.2268655585547124, mse=15610.154169831285\n",
      "Итерация 60: B0=309.25134279292445, B1=3.334705341551968, mse=12160.240517824892\n",
      "Итерация 70: B0=320.1218573783844, B1=3.3929610054486217, mse=10646.848382111686\n",
      "Итерация 80: B0=328.21541468198006, B1=3.42005048048252, mse=9921.668213853138\n",
      "Итерация 90: B0=334.5087744746199, B1=3.427658336421014, mse=9521.292393853697\n",
      "Итерация 100: B0=339.6232752149927, B1=3.4231941206303667, mse=9258.464858535659\n"
     ]
    }
   ],
   "source": [
    "for i in range(1, 101):\n",
    "    delta_B0 = beta*(2/n)*np.sum(B0 + B1*X - y)\n",
    "    delta_B1 = alpha*(2/n)*np.sum((B0 + B1*X - y)*X)\n",
    "    B0 -= delta_B0\n",
    "    B1 -= delta_B1\n",
    "    if i%10==0:\n",
    "        print(f\"Итерация {i}: B0={B0}, B1={B1}, mse={mse_(B0, B1)}\")"
   ]
  },
  {
   "cell_type": "code",
   "execution_count": 20,
   "metadata": {},
   "outputs": [
    {
     "name": "stdout",
     "output_type": "stream",
     "text": [
      "Итерация 500: B0=423.2376133309916, B1=2.7945416266880545, mse=6587.083990126589\n",
      "Итерация 1000: B0=439.8489907467095, B1=2.656506259227507, mse=6475.399184922162\n",
      "Итерация 1500: B0=443.2826588391799, B1=2.627973547878455, mse=6470.627196015911\n",
      "Итерация 2000: B0=443.99241795635015, B1=2.622075670893203, mse=6470.423301868632\n",
      "Итерация 2500: B0=444.1391292839569, B1=2.620856545500326, mse=6470.414590024547\n",
      "Итерация 3000: B0=444.1694553666058, B1=2.620604545208141, mse=6470.414217791076\n",
      "Итерация 3500: B0=444.17572394384405, B1=2.6205524552856185, mse=6470.414201886549\n",
      "Итерация 4000: B0=444.17701969513024, B1=2.620541687996401, mse=6470.414201206988\n",
      "Итерация 4500: B0=444.1772875344387, B1=2.6205394623352487, mse=6470.414201177955\n",
      "Итерация 5000: B0=444.1773428983783, B1=2.6205390022781727, mse=6470.414201176717\n",
      "Итерация 5500: B0=444.17735434242553, B1=2.620538907181707, mse=6470.4142011766635\n",
      "Итерация 6000: B0=444.1773567079766, B1=2.6205388875247153, mse=6470.414201176658\n",
      "Итерация 6500: B0=444.17735719694974, B1=2.6205388834615024, mse=6470.41420117666\n",
      "Итерация 7000: B0=444.17735729802314, B1=2.620538882621613, mse=6470.414201176661\n",
      "Итерация 7500: B0=444.1773573189157, B1=2.620538882448, mse=6470.41420117666\n",
      "Итерация 8000: B0=444.1773573232344, B1=2.6205388824121156, mse=6470.414201176657\n",
      "Итерация 8500: B0=444.17735732412666, B1=2.6205388824047007, mse=6470.414201176661\n",
      "Итерация 9000: B0=444.1773573243101, B1=2.6205388824031806, mse=6470.414201176659\n",
      "Итерация 9500: B0=444.1773573243495, B1=2.620538882402851, mse=6470.414201176658\n",
      "Итерация 10000: B0=444.17735732435096, B1=2.620538882402837, mse=6470.41420117666\n"
     ]
    }
   ],
   "source": [
    "for i in range(1, 10001):\n",
    "    delta_B0 = beta*(2/n)*np.sum(B0 + B1*X - y)\n",
    "    delta_B1 = alpha*(2/n)*np.sum((B0 + B1*X - y)*X)\n",
    "    B0 -= delta_B0\n",
    "    B1 -= delta_B1\n",
    "    if i%500==0:\n",
    "        print(f\"Итерация {i}: B0={B0}, B1={B1}, mse={mse_(B0, B1)}\")"
   ]
  },
  {
   "cell_type": "code",
   "execution_count": 21,
   "metadata": {},
   "outputs": [
    {
     "data": {
      "image/png": "[encoded data removed]",
      "text/plain": [
       "<Figure size 720x504 with 1 Axes>"
      ]
     },
     "metadata": {
      "needs_background": "light"
     },
     "output_type": "display_data"
    }
   ],
   "source": [
    "df = pd.DataFrame({'X': X, 'y': y, 'y_pred': B0 + B1*X}, columns=['X', 'y', 'y_pred'])\n",
    "df = df.sort_values('X')\n",
    "\n",
    "fg = plt.figure(figsize=(10, 7), constrained_layout=True)\n",
    "\n",
    "plt.scatter(df['X'], df['y'])\n",
    "plt.plot(df['X'], df['y_pred'], label='Линейная регрессия c intercept')\n",
    "plt.xlabel('Заработная плата')\n",
    "plt.ylabel('Скоринговый балл')\n",
    "plt.legend(loc='best')\n",
    "plt.grid(True)\n",
    "\n",
    "plt.show()"
   ]
  }
 ],
 "metadata": {
  "kernelspec": {
   "display_name": "Python 3",
   "language": "python",
   "name": "python3"
  },
  "language_info": {
   "codemirror_mode": {
    "name": "ipython",
    "version": 3
   },
   "file_extension": ".py",
   "mimetype": "text/x-python",
   "name": "python",
   "nbconvert_exporter": "python",
   "pygments_lexer": "ipython3",
   "version": "3.8.5"
  }
 },
 "nbformat": 4,
 "nbformat_minor": 4
}
