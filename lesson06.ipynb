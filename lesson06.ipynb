{
 "cells": [
  {
   "cell_type": "markdown",
   "metadata": {},
   "source": [
    "# Урок 6. Взаимосвязь величин. Параметрические и непараметрические показатели корреляции. Корреляционный анализ."
   ]
  },
  {
   "cell_type": "markdown",
   "metadata": {},
   "source": [
    "## 1. Даны значения величины заработной платы заемщиков банка (zp) и значения их поведенческого кредитного скоринга (ks):\n",
    "\n",
    "## zp = [35, 45, 190, 200, 40, 70, 54, 150, 120, 110],\n",
    "\n",
    "## ks = [401, 574, 874, 919, 459, 739, 653, 902, 746, 832].\n",
    "\n",
    "## Найдите ковариацию этих двух величин с помощью элементарных действий, а затем с помощью функции cov из numpy. Полученные значения должны быть равны. \n",
    "\n",
    "## Найдите коэффициент корреляции Пирсона с помощью ковариации и среднеквадратичных отклонений двух признаков, а затем с использованием функций из библиотек numpy и pandas."
   ]
  },
  {
   "cell_type": "code",
   "execution_count": 1,
   "metadata": {},
   "outputs": [],
   "source": [
    "import numpy as np\n",
    "import pandas as pd"
   ]
  },
  {
   "cell_type": "code",
   "execution_count": 2,
   "metadata": {},
   "outputs": [
    {
     "name": "stdout",
     "output_type": "stream",
     "text": [
      "Ковариация по формуле:\n",
      "9157.839999999997\n",
      "\n",
      "Ковариация методом cov библиотеки numpy:\n",
      "[[ 3494.64  9157.84]\n",
      " [ 9157.84 30468.89]]\n",
      "\n",
      "Коэффициент корреляции Пирсона по формуле:\n",
      "0.8874900920739158\n",
      "\n",
      "Коэффициент корреляции Пирсона методом corrcoef библиотеки numpy:\n",
      "[[1.         0.88749009]\n",
      " [0.88749009 1.        ]]\n",
      "\n"
     ]
    }
   ],
   "source": [
    "zp = np.array([35, 45, 190, 200, 40, 70, 54, 150, 120, 110])\n",
    "ks = np.array([401, 574, 874, 919, 459, 739, 653, 902, 746, 832])\n",
    "\n",
    "sum_zp = 0\n",
    "for zp_el in zp:\n",
    "    sum_zp+= zp_el\n",
    "\n",
    "sum_ks = 0\n",
    "for ks_el in ks:\n",
    "    sum_ks+= ks_el\n",
    "    \n",
    "zp_ks = zp*ks\n",
    "sum_zp_ks = 0\n",
    "for zp_ks_el in zp_ks:\n",
    "    sum_zp_ks+= zp_ks_el\n",
    "\n",
    "zp_mean = sum_zp/zp.size\n",
    "ks_mean = sum_ks/ks.size\n",
    "zp_ks_mean = sum_zp_ks/zp_ks.size\n",
    "\n",
    "cov_easy = zp_ks_mean - zp_mean*ks_mean\n",
    "print(f\"Ковариация по формуле:\\n{cov_easy}\\n\")\n",
    "\n",
    "cov_np = np.cov(zp, ks, ddof=0)\n",
    "print(f\"Ковариация методом cov библиотеки numpy:\\n{cov_np}\\n\")\n",
    "\n",
    "\n",
    "sum_zp2 = 0\n",
    "for zp_el in zp:\n",
    "    sum_zp2+= (zp_el-zp_mean)**2\n",
    "\n",
    "sum_ks2 = 0\n",
    "for ks_el in ks:\n",
    "    sum_ks2+= (ks_el-ks_mean)**2\n",
    "    \n",
    "sigma_zp_easy = (sum_zp2/zp.size)**0.5\n",
    "sigma_ks_easy = (sum_ks2/ks.size)**0.5\n",
    "\n",
    "r_easy = cov_easy/(sigma_zp_easy*sigma_ks_easy)\n",
    "\n",
    "print(f\"Коэффициент корреляции Пирсона по формуле:\\n{r_easy}\\n\")\n",
    "\n",
    "r_np = np.corrcoef(zp, ks)\n",
    "\n",
    "print(f\"Коэффициент корреляции Пирсона методом corrcoef библиотеки numpy:\\n{r_np}\\n\")\n"
   ]
  },
  {
   "cell_type": "markdown",
   "metadata": {},
   "source": [
    "## 2. Измерены значения IQ выборки студентов, обучающихся в местных технических вузах: 131, 125, 115, 122, 131, 115, 107, 99, 125, 111. Известно, что в генеральной совокупности IQ распределен нормально. Найдите доверительный интервал для математического ожидания с надежностью 0.95."
   ]
  },
  {
   "cell_type": "code",
   "execution_count": 3,
   "metadata": {},
   "outputs": [
    {
     "data": {
      "text/plain": [
       "array([131, 125, 115, 122, 131, 115, 107,  99, 125, 111])"
      ]
     },
     "execution_count": 3,
     "metadata": {},
     "output_type": "execute_result"
    }
   ],
   "source": [
    "X = np.array([131, 125, 115, 122, 131, 115, 107, 99, 125, 111])\n",
    "X"
   ]
  },
  {
   "cell_type": "code",
   "execution_count": 4,
   "metadata": {},
   "outputs": [
    {
     "data": {
      "text/plain": [
       "10"
      ]
     },
     "execution_count": 4,
     "metadata": {},
     "output_type": "execute_result"
    }
   ],
   "source": [
    "X.size"
   ]
  },
  {
   "cell_type": "markdown",
   "metadata": {},
   "source": [
    "Так как неизвестно среднее квадратическое отклонение генеральной совокупности, то используем t-критерий. Нижняя и верхняя границы доверительного интервала:"
   ]
  },
  {
   "cell_type": "markdown",
   "metadata": {},
   "source": [
    "## $$T_{1,2} = \\overline{X} \\pm t_{\\frac{\\alpha}{2}} \\cdot \\frac{s_0}{\\sqrt{n}}$$"
   ]
  },
  {
   "cell_type": "markdown",
   "metadata": {},
   "source": [
    "По условию задачи:"
   ]
  },
  {
   "cell_type": "markdown",
   "metadata": {},
   "source": [
    "### $$n = 10$$\n",
    "### $$p = 1-\\alpha = 0,95 \\Rightarrow \\alpha = 0,05 $$\n",
    "### "
   ]
  },
  {
   "cell_type": "markdown",
   "metadata": {},
   "source": [
    "Выборочное среднее арифметическое $\\overline{X}$:"
   ]
  },
  {
   "cell_type": "code",
   "execution_count": 5,
   "metadata": {},
   "outputs": [
    {
     "data": {
      "text/plain": [
       "118.1"
      ]
     },
     "execution_count": 5,
     "metadata": {},
     "output_type": "execute_result"
    }
   ],
   "source": [
    "X.mean()"
   ]
  },
  {
   "cell_type": "markdown",
   "metadata": {},
   "source": [
    "Среднее квадратичное отклонение по выборке (несмещенное) $s_0$:"
   ]
  },
  {
   "cell_type": "code",
   "execution_count": 6,
   "metadata": {},
   "outputs": [
    {
     "data": {
      "text/plain": [
       "10.54566788359614"
      ]
     },
     "execution_count": 6,
     "metadata": {},
     "output_type": "execute_result"
    }
   ],
   "source": [
    "np.std(X, ddof=1)"
   ]
  },
  {
   "cell_type": "markdown",
   "metadata": {},
   "source": [
    "Согласно t-таблице, для $\\alpha = 0,025$ и числа степеней свободы равному $n-1 = 9$ значение $t = 2,262$"
   ]
  },
  {
   "cell_type": "markdown",
   "metadata": {},
   "source": [
    "Подставив значения в формулу имеем:"
   ]
  },
  {
   "cell_type": "code",
   "execution_count": 7,
   "metadata": {},
   "outputs": [
    {
     "data": {
      "text/plain": [
       "110.55660776308164"
      ]
     },
     "execution_count": 7,
     "metadata": {},
     "output_type": "execute_result"
    }
   ],
   "source": [
    "X.mean() - 2.262*np.std(X, ddof=1)/np.sqrt(10)"
   ]
  },
  {
   "cell_type": "code",
   "execution_count": 8,
   "metadata": {},
   "outputs": [
    {
     "data": {
      "text/plain": [
       "125.64339223691834"
      ]
     },
     "execution_count": 8,
     "metadata": {},
     "output_type": "execute_result"
    }
   ],
   "source": [
    "X.mean() + 2.262*np.std(X, ddof=1)/np.sqrt(10)"
   ]
  },
  {
   "cell_type": "markdown",
   "metadata": {},
   "source": [
    "### __Ответ__: [110,5566; 125,6434]"
   ]
  },
  {
   "cell_type": "markdown",
   "metadata": {},
   "source": [
    "## 3.  Известно, что рост футболистов в сборной распределен нормально с дисперсией генеральной совокупности, равной 25 кв.см. Объем выборки равен 27, среднее выборочное составляет 174.2. Найдите доверительный интервал для математического ожидания с надежностью 0.95."
   ]
  },
  {
   "cell_type": "markdown",
   "metadata": {},
   "source": [
    "Так как известна дисперсия генеральной совокупности, то используем Z-критерий. Нижняя и верхняя границы доверительного интервала:"
   ]
  },
  {
   "cell_type": "markdown",
   "metadata": {},
   "source": [
    "## $$T_{1,2} = \\overline{X} \\pm Z_{\\frac{\\alpha}{2}} \\cdot \\frac{\\sigma}{\\sqrt{n}}$$"
   ]
  },
  {
   "cell_type": "markdown",
   "metadata": {},
   "source": [
    "По условию задачи:"
   ]
  },
  {
   "cell_type": "markdown",
   "metadata": {},
   "source": [
    "### $$\\sigma = \\sqrt{D} = \\sqrt{25} = 5$$\n",
    "### $$M = 174.2$$\n",
    "### $$n = 27$$"
   ]
  },
  {
   "cell_type": "markdown",
   "metadata": {},
   "source": [
    "### $$p = 1-\\alpha = 0,95 \\Rightarrow \\alpha = 0,05 $$"
   ]
  },
  {
   "cell_type": "markdown",
   "metadata": {},
   "source": [
    "Согласно Z-таблице:"
   ]
  },
  {
   "cell_type": "markdown",
   "metadata": {},
   "source": [
    "### $$Z_{\\frac{\\alpha}{2}} = Z_{0,025} = -1,96$$"
   ]
  },
  {
   "cell_type": "markdown",
   "metadata": {},
   "source": [
    "Подставив значения в формулу имеем:"
   ]
  },
  {
   "cell_type": "code",
   "execution_count": 9,
   "metadata": {},
   "outputs": [
    {
     "data": {
      "text/plain": [
       "172.31398912064722"
      ]
     },
     "execution_count": 9,
     "metadata": {},
     "output_type": "execute_result"
    }
   ],
   "source": [
    "174.2 - 1.96*5/np.sqrt(27)"
   ]
  },
  {
   "cell_type": "code",
   "execution_count": 10,
   "metadata": {},
   "outputs": [
    {
     "data": {
      "text/plain": [
       "176.08601087935276"
      ]
     },
     "execution_count": 10,
     "metadata": {},
     "output_type": "execute_result"
    }
   ],
   "source": [
    "174.2 + 1.96*5/np.sqrt(27)"
   ]
  },
  {
   "cell_type": "markdown",
   "metadata": {},
   "source": [
    "### __Ответ__: [172,314; 176,086]"
   ]
  }
 ],
 "metadata": {
  "kernelspec": {
   "display_name": "Python 3",
   "language": "python",
   "name": "python3"
  },
  "language_info": {
   "codemirror_mode": {
    "name": "ipython",
    "version": 3
   },
   "file_extension": ".py",
   "mimetype": "text/x-python",
   "name": "python",
   "nbconvert_exporter": "python",
   "pygments_lexer": "ipython3",
   "version": "3.8.5"
  }
 },
 "nbformat": 4,
 "nbformat_minor": 4
}
