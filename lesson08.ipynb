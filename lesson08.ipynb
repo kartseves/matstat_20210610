{
 "cells": [
  {
   "cell_type": "markdown",
   "metadata": {},
   "source": [
    "# Урок 8. Дисперсионный анализ. Логистическая регрессия"
   ]
  },
  {
   "cell_type": "markdown",
   "metadata": {},
   "source": [
    "## 1. Провести дисперсионный анализ для определения того, есть ли различия среднего роста среди взрослых футболистов, хоккеистов и штангистов. Даны значения роста в трех группах случайно выбранных спортсменов: Футболисты: 173, 175, 180, 178, 177, 185, 183, 182. Хоккеисты: 177, 179, 180, 188, 177, 172, 171, 184, 180. Штангисты: 172, 173, 169, 177, 166, 180, 178, 177, 172, 166, 170."
   ]
  },
  {
   "cell_type": "code",
   "execution_count": 1,
   "metadata": {},
   "outputs": [],
   "source": [
    "import numpy as np"
   ]
  },
  {
   "cell_type": "code",
   "execution_count": 2,
   "metadata": {},
   "outputs": [
    {
     "name": "stdout",
     "output_type": "stream",
     "text": [
      "Значения роста футболистов:\n",
      "[173. 175. 180. 178. 177. 185. 183. 182.]\n",
      "\n",
      "Всего футболистов: 8\n",
      "\n",
      "Значения роста хоккеистов:\n",
      "[177. 179. 180. 188. 177. 172. 171. 184. 180.]\n",
      "\n",
      "Всего хоккеистов: 9\n",
      "\n",
      "Значения роста штангистов:\n",
      "[172. 173. 169. 177. 166. 180. 178. 177. 172. 166. 170.]\n",
      "\n",
      "Всего штангистов: 11\n",
      "\n",
      "Всего человек: 28\n"
     ]
    }
   ],
   "source": [
    "y1 = np.array([173, 175, 180, 178, 177, 185, 183, 182], dtype=np.float64)\n",
    "y2 = np.array([177, 179, 180, 188, 177, 172, 171, 184, 180], dtype=np.float64)\n",
    "y3 = np.array([172, 173, 169, 177, 166, 180, 178, 177, 172, 166, 170], dtype=np.float64)\n",
    "\n",
    "n1 = y1.size\n",
    "n2 = y2.size\n",
    "n3 = y3.size\n",
    "n = n1 + n2 + n3\n",
    "k = 3\n",
    "\n",
    "print(f\"Значения роста футболистов:\\n{y1}\\n\")\n",
    "print(f\"Всего футболистов: {n1}\\n\")\n",
    "print(f\"Значения роста хоккеистов:\\n{y2}\\n\")\n",
    "print(f\"Всего хоккеистов: {n2}\\n\")\n",
    "print(f\"Значения роста штангистов:\\n{y3}\\n\")\n",
    "print(f\"Всего штангистов: {n3}\\n\")\n",
    "print(f\"Всего человек: {n}\")"
   ]
  },
  {
   "cell_type": "code",
   "execution_count": 3,
   "metadata": {},
   "outputs": [
    {
     "name": "stdout",
     "output_type": "stream",
     "text": [
      "Среднее значение роста футболистов:\n",
      "179.125\n",
      "\n",
      "Среднее значение роста хоккеистов:\n",
      "178.66666666666666\n",
      "\n",
      "Среднее значение роста штангистов:\n",
      "172.72727272727272\n"
     ]
    }
   ],
   "source": [
    "y1_mean = np.mean(y1)\n",
    "y2_mean = np.mean(y2)\n",
    "y3_mean = np.mean(y3)\n",
    "\n",
    "print(f\"Среднее значение роста футболистов:\\n{y1_mean}\\n\")\n",
    "print(f\"Среднее значение роста хоккеистов:\\n{y2_mean}\\n\")\n",
    "print(f\"Среднее значение роста штангистов:\\n{y3_mean}\")"
   ]
  },
  {
   "cell_type": "code",
   "execution_count": 4,
   "metadata": {},
   "outputs": [
    {
     "data": {
      "text/plain": [
       "array([173., 175., 180., 178., 177., 185., 183., 182., 177., 179., 180.,\n",
       "       188., 177., 172., 171., 184., 180., 172., 173., 169., 177., 166.,\n",
       "       180., 178., 177., 172., 166., 170.])"
      ]
     },
     "execution_count": 4,
     "metadata": {},
     "output_type": "execute_result"
    }
   ],
   "source": [
    "y_all = np.concatenate([y1, y2, y3])\n",
    "y_all"
   ]
  },
  {
   "cell_type": "code",
   "execution_count": 5,
   "metadata": {},
   "outputs": [
    {
     "name": "stdout",
     "output_type": "stream",
     "text": [
      "Среднее значение роста по всем значениям:\n",
      "176.46428571428572\n"
     ]
    }
   ],
   "source": [
    "y_mean = np.mean(y_all)\n",
    "\n",
    "print(f\"Среднее значение роста по всем значениям:\\n{y_mean}\")"
   ]
  },
  {
   "cell_type": "code",
   "execution_count": 6,
   "metadata": {},
   "outputs": [
    {
     "name": "stdout",
     "output_type": "stream",
     "text": [
      "Сумма квадратов отклонений наблюдений от общего среднего:\n",
      "830.9642857142854\n"
     ]
    }
   ],
   "source": [
    "s2 = np.sum((y_all - y_mean)**2)\n",
    "\n",
    "print(f\"Сумма квадратов отклонений наблюдений от общего среднего:\\n{s2}\")"
   ]
  },
  {
   "cell_type": "code",
   "execution_count": 7,
   "metadata": {},
   "outputs": [
    {
     "name": "stdout",
     "output_type": "stream",
     "text": [
      "Сумма квадратов отклонений средних групповых значений от общего среднего:\n",
      "253.9074675324678\n"
     ]
    }
   ],
   "source": [
    "s2_f = ((y1_mean - y_mean)**2) * n1 + ((y2_mean - y_mean)**2) * n2 + ((y3_mean - y_mean)**2) * n3\n",
    "\n",
    "print(f\"Сумма квадратов отклонений средних групповых значений от общего среднего:\\n{s2_f}\")"
   ]
  },
  {
   "cell_type": "code",
   "execution_count": 8,
   "metadata": {},
   "outputs": [
    {
     "name": "stdout",
     "output_type": "stream",
     "text": [
      "Остаточная сумма квадратов отклонений:\n",
      "577.0568181818181\n"
     ]
    }
   ],
   "source": [
    "s2_residual = 0\n",
    "for elem in y1:\n",
    "    s2_residual += (elem - y1_mean)**2\n",
    "for elem in y2:\n",
    "    s2_residual += (elem - y2_mean)**2\n",
    "for elem in y3:\n",
    "    s2_residual += (elem - y3_mean)**2\n",
    "\n",
    "print(f\"Остаточная сумма квадратов отклонений:\\n{s2_residual}\")"
   ]
  },
  {
   "cell_type": "code",
   "execution_count": 9,
   "metadata": {},
   "outputs": [
    {
     "name": "stdout",
     "output_type": "stream",
     "text": [
      "Проверка:\n",
      "830.9642857142854 = 830.9642857142859\n"
     ]
    }
   ],
   "source": [
    "print(f\"Проверка:\\n{s2} = {s2_f + s2_residual}\")\n"
   ]
  },
  {
   "cell_type": "code",
   "execution_count": 10,
   "metadata": {},
   "outputs": [
    {
     "name": "stdout",
     "output_type": "stream",
     "text": [
      "Общая дисперсия:\n",
      "30.776455026455015\n"
     ]
    }
   ],
   "source": [
    "sigma2_general = s2 / (n - 1)\n",
    "\n",
    "print(f\"Общая дисперсия:\\n{sigma2_general}\")"
   ]
  },
  {
   "cell_type": "code",
   "execution_count": 11,
   "metadata": {},
   "outputs": [
    {
     "name": "stdout",
     "output_type": "stream",
     "text": [
      "Факторная дисперсия:\n",
      "126.9537337662339\n"
     ]
    }
   ],
   "source": [
    "sigma2_f = s2_f / (k - 1)\n",
    "\n",
    "print(f\"Факторная дисперсия:\\n{sigma2_f}\")"
   ]
  },
  {
   "cell_type": "code",
   "execution_count": 12,
   "metadata": {},
   "outputs": [
    {
     "name": "stdout",
     "output_type": "stream",
     "text": [
      "Остаточная дисперсия:\n",
      "23.082272727272724\n"
     ]
    }
   ],
   "source": [
    "sigma2_residual = s2_residual / (n - k)\n",
    "\n",
    "print(f\"Остаточная дисперсия:\\n{sigma2_residual}\")"
   ]
  },
  {
   "cell_type": "code",
   "execution_count": 13,
   "metadata": {},
   "outputs": [
    {
     "name": "stdout",
     "output_type": "stream",
     "text": [
      "Расчетное значение критерия Фишера-Снедекора:\n",
      "5.500053450812599\n"
     ]
    }
   ],
   "source": [
    "F_h = sigma2_f / sigma2_residual\n",
    "\n",
    "print(f\"Расчетное значение критерия Фишера-Снедекора:\\n{F_h}\")"
   ]
  },
  {
   "cell_type": "markdown",
   "metadata": {},
   "source": [
    "Табличное значение критерия для $df_{межд} = k - 1 = 3 - 1 = 2$, и $df_{внутр} = n - k = 28 - 3 = 25$, при уровне значимости $\\alpha = 0,05$ равно 3,38.\n",
    "\n",
    "Так как расчетное значение больше табличного, то различие среднего роста в трех группах статистически значимо."
   ]
  },
  {
   "cell_type": "code",
   "execution_count": 14,
   "metadata": {},
   "outputs": [
    {
     "name": "stdout",
     "output_type": "stream",
     "text": [
      "Эмпирическое корреляционное отношение:\n",
      "0.30555761769498\n"
     ]
    }
   ],
   "source": [
    "eta2 = s2_f / s2\n",
    "\n",
    "print(f\"Эмпирическое корреляционное отношение:\\n{eta2}\")"
   ]
  },
  {
   "cell_type": "code",
   "execution_count": 15,
   "metadata": {},
   "outputs": [
    {
     "data": {
      "text/plain": [
       "F_onewayResult(statistic=5.500053450812596, pvalue=0.010482206918698694)"
      ]
     },
     "execution_count": 15,
     "metadata": {},
     "output_type": "execute_result"
    }
   ],
   "source": [
    "from scipy import stats\n",
    "stats.f_oneway(y1, y2, y3)"
   ]
  },
  {
   "cell_type": "markdown",
   "metadata": {},
   "source": [
    "### __Ответ__:  различие среднего роста в трех группах статистически значимо для уровня значимости не менее 0.010482206918698694."
   ]
  }
 ],
 "metadata": {
  "kernelspec": {
   "display_name": "Python 3",
   "language": "python",
   "name": "python3"
  },
  "language_info": {
   "codemirror_mode": {
    "name": "ipython",
    "version": 3
   },
   "file_extension": ".py",
   "mimetype": "text/x-python",
   "name": "python",
   "nbconvert_exporter": "python",
   "pygments_lexer": "ipython3",
   "version": "3.8.5"
  }
 },
 "nbformat": 4,
 "nbformat_minor": 4
}
